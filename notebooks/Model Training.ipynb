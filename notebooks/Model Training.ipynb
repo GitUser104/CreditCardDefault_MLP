{
 "cells": [
  {
   "cell_type": "code",
   "execution_count": 37,
   "metadata": {},
   "outputs": [],
   "source": [
    "import pandas as pd\n",
    "import numpy as np"
   ]
  },
  {
   "cell_type": "markdown",
   "metadata": {},
   "source": [
    "Model Training"
   ]
  },
  {
   "cell_type": "code",
   "execution_count": 2,
   "metadata": {},
   "outputs": [],
   "source": [
    "df=pd.read_csv(r\"C:\\Users\\91971\\Downloads\\archive (3)\\UCI_Credit_Card.csv\")"
   ]
  },
  {
   "cell_type": "code",
   "execution_count": 3,
   "metadata": {},
   "outputs": [],
   "source": [
    "df = df.drop(labels=['ID'],axis=1)"
   ]
  },
  {
   "cell_type": "code",
   "execution_count": 6,
   "metadata": {},
   "outputs": [],
   "source": [
    "## Indepdendent and dependent features\n",
    "X = df.drop(labels=['default.payment.next.month'],axis=1)\n",
    "Y = df[['default.payment.next.month']]"
   ]
  },
  {
   "cell_type": "code",
   "execution_count": 7,
   "metadata": {},
   "outputs": [],
   "source": [
    "## Plz Note that we could have used the clean dataset but by doing so\n",
    "# if say new data comes tomorrow we would need to repeat the entire process \n",
    "# thus we need to automate the process so we are doing this."
   ]
  },
  {
   "cell_type": "code",
   "execution_count": 15,
   "metadata": {},
   "outputs": [],
   "source": [
    "# Defining which columns should be encoded\n",
    "categorical_cols = X.select_dtypes(include='object').columns \n",
    "numerical_cols = X.select_dtypes(exclude='object').columns"
   ]
  },
  {
   "cell_type": "code",
   "execution_count": null,
   "metadata": {},
   "outputs": [],
   "source": [
    "## Assuming the following \n",
    "# catergorical_cols include = ['SEX','EDUCATION','MARRIAGE','default.payment.nex.month']\n",
    "# numerical_cols include all the other columns except the above mentioned columns."
   ]
  },
  {
   "cell_type": "code",
   "execution_count": 11,
   "metadata": {},
   "outputs": [],
   "source": [
    "# Defining the encoding for ordinal variable and other variable \n",
    "EDUCATION = ['graduate school','university','high school','unknown','others']\n",
    "\n",
    "\n",
    "############# Use other encoding also once successfully deployed"
   ]
  },
  {
   "cell_type": "code",
   "execution_count": 9,
   "metadata": {},
   "outputs": [],
   "source": [
    "from sklearn.impute import SimpleImputer            # Handle missing values \n",
    "from sklearn.preprocessing import StandardScaler    # Feature scaling\n",
    "from sklearn.preprocessing import OrdinalEncoder    # Ordinal Encoding \n",
    "## pipeline\n",
    "from sklearn.pipeline import Pipeline\n",
    "from sklearn.compose import ColumnTransformer"
   ]
  },
  {
   "cell_type": "code",
   "execution_count": 16,
   "metadata": {},
   "outputs": [],
   "source": [
    "# Numerical Pipeline\n",
    "num_pipeline =Pipeline(\n",
    "    steps=[\n",
    "    ('imputer',SimpleImputer(strategy='median')),\n",
    "    ('scaler',StandardScaler())\n",
    "    ]\n",
    "\n",
    ")\n",
    "\n",
    "# Categorical Piepline\n",
    "cat_pipeline =Pipeline(\n",
    "    steps=[\n",
    "        ('imputer',SimpleImputer(strategy='most frequent')),\n",
    "        ('ordinalencoder',OrdinalEncoder(categories=[EDUCATION])),\n",
    "        ('scaler',StandardScaler())\n",
    "    ]\n",
    ")\n",
    "\n",
    "preprocessor=ColumnTransformer([\n",
    "    ('num_pipeline',num_pipeline,numerical_cols),\n",
    "    ('cat_pipeline',cat_pipeline,categorical_cols)\n",
    "])"
   ]
  },
  {
   "cell_type": "code",
   "execution_count": 27,
   "metadata": {},
   "outputs": [],
   "source": [
    "## Train Test split \n",
    "from sklearn.model_selection import train_test_split\n",
    "\n",
    "X_train,X_test,y_train,y_test=train_test_split(X,Y,test_size=0.30,random_state=42)"
   ]
  },
  {
   "cell_type": "code",
   "execution_count": 28,
   "metadata": {},
   "outputs": [],
   "source": [
    "X_train = pd.DataFrame(preprocessor.fit_transform(X_train),columns=preprocessor.get_feature_names_out()) # transform out dataset acc to preprocessor \n",
    "X_test = pd.DataFrame(preprocessor.transform(X_test),columns=preprocessor.get_feature_names_out())"
   ]
  },
  {
   "cell_type": "code",
   "execution_count": 29,
   "metadata": {},
   "outputs": [
    {
     "data": {
      "text/html": [
       "<div>\n",
       "<style scoped>\n",
       "    .dataframe tbody tr th:only-of-type {\n",
       "        vertical-align: middle;\n",
       "    }\n",
       "\n",
       "    .dataframe tbody tr th {\n",
       "        vertical-align: top;\n",
       "    }\n",
       "\n",
       "    .dataframe thead th {\n",
       "        text-align: right;\n",
       "    }\n",
       "</style>\n",
       "<table border=\"1\" class=\"dataframe\">\n",
       "  <thead>\n",
       "    <tr style=\"text-align: right;\">\n",
       "      <th></th>\n",
       "      <th>num_pipeline__LIMIT_BAL</th>\n",
       "      <th>num_pipeline__SEX</th>\n",
       "      <th>num_pipeline__EDUCATION</th>\n",
       "      <th>num_pipeline__MARRIAGE</th>\n",
       "      <th>num_pipeline__AGE</th>\n",
       "      <th>num_pipeline__PAY_0</th>\n",
       "      <th>num_pipeline__PAY_2</th>\n",
       "      <th>num_pipeline__PAY_3</th>\n",
       "      <th>num_pipeline__PAY_4</th>\n",
       "      <th>num_pipeline__PAY_5</th>\n",
       "      <th>...</th>\n",
       "      <th>num_pipeline__BILL_AMT3</th>\n",
       "      <th>num_pipeline__BILL_AMT4</th>\n",
       "      <th>num_pipeline__BILL_AMT5</th>\n",
       "      <th>num_pipeline__BILL_AMT6</th>\n",
       "      <th>num_pipeline__PAY_AMT1</th>\n",
       "      <th>num_pipeline__PAY_AMT2</th>\n",
       "      <th>num_pipeline__PAY_AMT3</th>\n",
       "      <th>num_pipeline__PAY_AMT4</th>\n",
       "      <th>num_pipeline__PAY_AMT5</th>\n",
       "      <th>num_pipeline__PAY_AMT6</th>\n",
       "    </tr>\n",
       "  </thead>\n",
       "  <tbody>\n",
       "    <tr>\n",
       "      <th>0</th>\n",
       "      <td>0.563914</td>\n",
       "      <td>0.806489</td>\n",
       "      <td>-1.076818</td>\n",
       "      <td>-1.053818</td>\n",
       "      <td>0.487684</td>\n",
       "      <td>-1.759539</td>\n",
       "      <td>-1.558129</td>\n",
       "      <td>-1.534656</td>\n",
       "      <td>-1.522407</td>\n",
       "      <td>-1.528914</td>\n",
       "      <td>...</td>\n",
       "      <td>-0.676308</td>\n",
       "      <td>-0.674219</td>\n",
       "      <td>-0.665072</td>\n",
       "      <td>-0.657278</td>\n",
       "      <td>-0.334158</td>\n",
       "      <td>-0.237820</td>\n",
       "      <td>-0.286287</td>\n",
       "      <td>-0.303704</td>\n",
       "      <td>-0.306697</td>\n",
       "      <td>-0.295508</td>\n",
       "    </tr>\n",
       "    <tr>\n",
       "      <th>1</th>\n",
       "      <td>-0.906109</td>\n",
       "      <td>0.806489</td>\n",
       "      <td>-1.076818</td>\n",
       "      <td>0.861717</td>\n",
       "      <td>-1.354775</td>\n",
       "      <td>-0.872930</td>\n",
       "      <td>-0.724841</td>\n",
       "      <td>-0.697092</td>\n",
       "      <td>-0.667580</td>\n",
       "      <td>-0.646969</td>\n",
       "      <td>...</td>\n",
       "      <td>-0.643113</td>\n",
       "      <td>-0.599093</td>\n",
       "      <td>-0.502942</td>\n",
       "      <td>-0.646122</td>\n",
       "      <td>-0.183068</td>\n",
       "      <td>-0.145394</td>\n",
       "      <td>-0.022842</td>\n",
       "      <td>0.305068</td>\n",
       "      <td>-0.265029</td>\n",
       "      <td>-0.127272</td>\n",
       "    </tr>\n",
       "    <tr>\n",
       "      <th>2</th>\n",
       "      <td>-0.906109</td>\n",
       "      <td>0.806489</td>\n",
       "      <td>0.186488</td>\n",
       "      <td>-1.053818</td>\n",
       "      <td>0.054164</td>\n",
       "      <td>1.786897</td>\n",
       "      <td>1.775022</td>\n",
       "      <td>1.815598</td>\n",
       "      <td>1.896903</td>\n",
       "      <td>0.234975</td>\n",
       "      <td>...</td>\n",
       "      <td>0.032999</td>\n",
       "      <td>0.076353</td>\n",
       "      <td>0.055141</td>\n",
       "      <td>-0.063506</td>\n",
       "      <td>-0.334158</td>\n",
       "      <td>-0.050658</td>\n",
       "      <td>-0.286287</td>\n",
       "      <td>-0.179343</td>\n",
       "      <td>-0.085730</td>\n",
       "      <td>-0.295508</td>\n",
       "    </tr>\n",
       "    <tr>\n",
       "      <th>3</th>\n",
       "      <td>0.254436</td>\n",
       "      <td>0.806489</td>\n",
       "      <td>1.449794</td>\n",
       "      <td>-1.053818</td>\n",
       "      <td>2.005003</td>\n",
       "      <td>5.333332</td>\n",
       "      <td>4.274884</td>\n",
       "      <td>3.490726</td>\n",
       "      <td>2.751731</td>\n",
       "      <td>1.998864</td>\n",
       "      <td>...</td>\n",
       "      <td>0.835234</td>\n",
       "      <td>0.930802</td>\n",
       "      <td>1.010764</td>\n",
       "      <td>-0.657278</td>\n",
       "      <td>-0.334158</td>\n",
       "      <td>-0.237820</td>\n",
       "      <td>-0.286287</td>\n",
       "      <td>-0.303704</td>\n",
       "      <td>-0.306697</td>\n",
       "      <td>-0.295508</td>\n",
       "    </tr>\n",
       "    <tr>\n",
       "      <th>4</th>\n",
       "      <td>0.563914</td>\n",
       "      <td>-1.239943</td>\n",
       "      <td>-1.076818</td>\n",
       "      <td>-1.053818</td>\n",
       "      <td>-0.054216</td>\n",
       "      <td>-0.872930</td>\n",
       "      <td>-0.724841</td>\n",
       "      <td>-0.697092</td>\n",
       "      <td>0.187248</td>\n",
       "      <td>-0.646969</td>\n",
       "      <td>...</td>\n",
       "      <td>-0.361686</td>\n",
       "      <td>-0.406551</td>\n",
       "      <td>-0.444155</td>\n",
       "      <td>-0.274249</td>\n",
       "      <td>-0.214555</td>\n",
       "      <td>0.630972</td>\n",
       "      <td>-0.224816</td>\n",
       "      <td>0.529960</td>\n",
       "      <td>1.130978</td>\n",
       "      <td>0.992796</td>\n",
       "    </tr>\n",
       "  </tbody>\n",
       "</table>\n",
       "<p>5 rows × 23 columns</p>\n",
       "</div>"
      ],
      "text/plain": [
       "   num_pipeline__LIMIT_BAL  num_pipeline__SEX  num_pipeline__EDUCATION  \\\n",
       "0                 0.563914           0.806489                -1.076818   \n",
       "1                -0.906109           0.806489                -1.076818   \n",
       "2                -0.906109           0.806489                 0.186488   \n",
       "3                 0.254436           0.806489                 1.449794   \n",
       "4                 0.563914          -1.239943                -1.076818   \n",
       "\n",
       "   num_pipeline__MARRIAGE  num_pipeline__AGE  num_pipeline__PAY_0  \\\n",
       "0               -1.053818           0.487684            -1.759539   \n",
       "1                0.861717          -1.354775            -0.872930   \n",
       "2               -1.053818           0.054164             1.786897   \n",
       "3               -1.053818           2.005003             5.333332   \n",
       "4               -1.053818          -0.054216            -0.872930   \n",
       "\n",
       "   num_pipeline__PAY_2  num_pipeline__PAY_3  num_pipeline__PAY_4  \\\n",
       "0            -1.558129            -1.534656            -1.522407   \n",
       "1            -0.724841            -0.697092            -0.667580   \n",
       "2             1.775022             1.815598             1.896903   \n",
       "3             4.274884             3.490726             2.751731   \n",
       "4            -0.724841            -0.697092             0.187248   \n",
       "\n",
       "   num_pipeline__PAY_5  ...  num_pipeline__BILL_AMT3  num_pipeline__BILL_AMT4  \\\n",
       "0            -1.528914  ...                -0.676308                -0.674219   \n",
       "1            -0.646969  ...                -0.643113                -0.599093   \n",
       "2             0.234975  ...                 0.032999                 0.076353   \n",
       "3             1.998864  ...                 0.835234                 0.930802   \n",
       "4            -0.646969  ...                -0.361686                -0.406551   \n",
       "\n",
       "   num_pipeline__BILL_AMT5  num_pipeline__BILL_AMT6  num_pipeline__PAY_AMT1  \\\n",
       "0                -0.665072                -0.657278               -0.334158   \n",
       "1                -0.502942                -0.646122               -0.183068   \n",
       "2                 0.055141                -0.063506               -0.334158   \n",
       "3                 1.010764                -0.657278               -0.334158   \n",
       "4                -0.444155                -0.274249               -0.214555   \n",
       "\n",
       "   num_pipeline__PAY_AMT2  num_pipeline__PAY_AMT3  num_pipeline__PAY_AMT4  \\\n",
       "0               -0.237820               -0.286287               -0.303704   \n",
       "1               -0.145394               -0.022842                0.305068   \n",
       "2               -0.050658               -0.286287               -0.179343   \n",
       "3               -0.237820               -0.286287               -0.303704   \n",
       "4                0.630972               -0.224816                0.529960   \n",
       "\n",
       "   num_pipeline__PAY_AMT5  num_pipeline__PAY_AMT6  \n",
       "0               -0.306697               -0.295508  \n",
       "1               -0.265029               -0.127272  \n",
       "2               -0.085730               -0.295508  \n",
       "3               -0.306697               -0.295508  \n",
       "4                1.130978                0.992796  \n",
       "\n",
       "[5 rows x 23 columns]"
      ]
     },
     "execution_count": 29,
     "metadata": {},
     "output_type": "execute_result"
    }
   ],
   "source": [
    "X_train.head()"
   ]
  },
  {
   "cell_type": "code",
   "execution_count": 31,
   "metadata": {},
   "outputs": [],
   "source": [
    "## Model training\n",
    "\n",
    "from sklearn.linear_model import LinearRegression\n",
    "from sklearn.ensemble import RandomForestClassifier\n",
    "from sklearn.tree import DecisionTreeClassifier\n",
    "from sklearn.metrics import r2_score,mean_absolute_error,mean_squared_error"
   ]
  },
  {
   "cell_type": "code",
   "execution_count": 32,
   "metadata": {},
   "outputs": [
    {
     "data": {
      "text/html": [
       "<style>#sk-container-id-1 {color: black;}#sk-container-id-1 pre{padding: 0;}#sk-container-id-1 div.sk-toggleable {background-color: white;}#sk-container-id-1 label.sk-toggleable__label {cursor: pointer;display: block;width: 100%;margin-bottom: 0;padding: 0.3em;box-sizing: border-box;text-align: center;}#sk-container-id-1 label.sk-toggleable__label-arrow:before {content: \"▸\";float: left;margin-right: 0.25em;color: #696969;}#sk-container-id-1 label.sk-toggleable__label-arrow:hover:before {color: black;}#sk-container-id-1 div.sk-estimator:hover label.sk-toggleable__label-arrow:before {color: black;}#sk-container-id-1 div.sk-toggleable__content {max-height: 0;max-width: 0;overflow: hidden;text-align: left;background-color: #f0f8ff;}#sk-container-id-1 div.sk-toggleable__content pre {margin: 0.2em;color: black;border-radius: 0.25em;background-color: #f0f8ff;}#sk-container-id-1 input.sk-toggleable__control:checked~div.sk-toggleable__content {max-height: 200px;max-width: 100%;overflow: auto;}#sk-container-id-1 input.sk-toggleable__control:checked~label.sk-toggleable__label-arrow:before {content: \"▾\";}#sk-container-id-1 div.sk-estimator input.sk-toggleable__control:checked~label.sk-toggleable__label {background-color: #d4ebff;}#sk-container-id-1 div.sk-label input.sk-toggleable__control:checked~label.sk-toggleable__label {background-color: #d4ebff;}#sk-container-id-1 input.sk-hidden--visually {border: 0;clip: rect(1px 1px 1px 1px);clip: rect(1px, 1px, 1px, 1px);height: 1px;margin: -1px;overflow: hidden;padding: 0;position: absolute;width: 1px;}#sk-container-id-1 div.sk-estimator {font-family: monospace;background-color: #f0f8ff;border: 1px dotted black;border-radius: 0.25em;box-sizing: border-box;margin-bottom: 0.5em;}#sk-container-id-1 div.sk-estimator:hover {background-color: #d4ebff;}#sk-container-id-1 div.sk-parallel-item::after {content: \"\";width: 100%;border-bottom: 1px solid gray;flex-grow: 1;}#sk-container-id-1 div.sk-label:hover label.sk-toggleable__label {background-color: #d4ebff;}#sk-container-id-1 div.sk-serial::before {content: \"\";position: absolute;border-left: 1px solid gray;box-sizing: border-box;top: 0;bottom: 0;left: 50%;z-index: 0;}#sk-container-id-1 div.sk-serial {display: flex;flex-direction: column;align-items: center;background-color: white;padding-right: 0.2em;padding-left: 0.2em;position: relative;}#sk-container-id-1 div.sk-item {position: relative;z-index: 1;}#sk-container-id-1 div.sk-parallel {display: flex;align-items: stretch;justify-content: center;background-color: white;position: relative;}#sk-container-id-1 div.sk-item::before, #sk-container-id-1 div.sk-parallel-item::before {content: \"\";position: absolute;border-left: 1px solid gray;box-sizing: border-box;top: 0;bottom: 0;left: 50%;z-index: -1;}#sk-container-id-1 div.sk-parallel-item {display: flex;flex-direction: column;z-index: 1;position: relative;background-color: white;}#sk-container-id-1 div.sk-parallel-item:first-child::after {align-self: flex-end;width: 50%;}#sk-container-id-1 div.sk-parallel-item:last-child::after {align-self: flex-start;width: 50%;}#sk-container-id-1 div.sk-parallel-item:only-child::after {width: 0;}#sk-container-id-1 div.sk-dashed-wrapped {border: 1px dashed gray;margin: 0 0.4em 0.5em 0.4em;box-sizing: border-box;padding-bottom: 0.4em;background-color: white;}#sk-container-id-1 div.sk-label label {font-family: monospace;font-weight: bold;display: inline-block;line-height: 1.2em;}#sk-container-id-1 div.sk-label-container {text-align: center;}#sk-container-id-1 div.sk-container {/* jupyter's `normalize.less` sets `[hidden] { display: none; }` but bootstrap.min.css set `[hidden] { display: none !important; }` so we also need the `!important` here to be able to override the default hidden behavior on the sphinx rendered scikit-learn.org. See: https://github.com/scikit-learn/scikit-learn/issues/21755 */display: inline-block !important;position: relative;}#sk-container-id-1 div.sk-text-repr-fallback {display: none;}</style><div id=\"sk-container-id-1\" class=\"sk-top-container\"><div class=\"sk-text-repr-fallback\"><pre>LinearRegression()</pre><b>In a Jupyter environment, please rerun this cell to show the HTML representation or trust the notebook. <br />On GitHub, the HTML representation is unable to render, please try loading this page with nbviewer.org.</b></div><div class=\"sk-container\" hidden><div class=\"sk-item\"><div class=\"sk-estimator sk-toggleable\"><input class=\"sk-toggleable__control sk-hidden--visually\" id=\"sk-estimator-id-1\" type=\"checkbox\" checked><label for=\"sk-estimator-id-1\" class=\"sk-toggleable__label sk-toggleable__label-arrow\">LinearRegression</label><div class=\"sk-toggleable__content\"><pre>LinearRegression()</pre></div></div></div></div></div>"
      ],
      "text/plain": [
       "LinearRegression()"
      ]
     },
     "execution_count": 32,
     "metadata": {},
     "output_type": "execute_result"
    }
   ],
   "source": [
    "classifier=LinearRegression()\n",
    "classifier.fit(X_train,y_train)"
   ]
  },
  {
   "cell_type": "code",
   "execution_count": 35,
   "metadata": {},
   "outputs": [
    {
     "data": {
      "text/plain": [
       "array([[-0.01251013, -0.00725301, -0.01145199, -0.01207893,  0.01445458,\n",
       "         0.10777842,  0.02579322,  0.01562378,  0.00542605,  0.00143465,\n",
       "         0.00413289, -0.04851965,  0.01725565,  0.00523534, -0.00895033,\n",
       "        -0.00790931,  0.00859245, -0.01087926, -0.00467177,  0.00128892,\n",
       "        -0.00126931, -0.00539764, -0.00263549]])"
      ]
     },
     "execution_count": 35,
     "metadata": {},
     "output_type": "execute_result"
    }
   ],
   "source": [
    "classifier.coef_"
   ]
  },
  {
   "cell_type": "code",
   "execution_count": 36,
   "metadata": {},
   "outputs": [
    {
     "data": {
      "text/plain": [
       "array([0.22266667])"
      ]
     },
     "execution_count": 36,
     "metadata": {},
     "output_type": "execute_result"
    }
   ],
   "source": [
    "classifier.intercept_"
   ]
  },
  {
   "cell_type": "code",
   "execution_count": 48,
   "metadata": {},
   "outputs": [
    {
     "name": "stdout",
     "output_type": "stream",
     "text": [
      "       default.payment.next.month\n",
      "2308                            0\n",
      "22404                           0\n",
      "23397                           0\n",
      "25058                           0\n",
      "2664                            1\n",
      "...                           ...\n",
      "3941                            1\n",
      "17854                           0\n",
      "95                              0\n",
      "6279                            0\n",
      "26428                           0\n",
      "\n",
      "[9000 rows x 1 columns] [[ 0.24979205]\n",
      " [ 0.17621845]\n",
      " [ 0.22029788]\n",
      " ...\n",
      " [ 0.22978588]\n",
      " [ 0.19256797]\n",
      " [-0.0113499 ]]\n"
     ]
    }
   ],
   "source": [
    "print(y_test,y_pred)"
   ]
  },
  {
   "cell_type": "code",
   "execution_count": 50,
   "metadata": {},
   "outputs": [],
   "source": [
    "def evaluate_model(true,predicted):\n",
    "    mae = mean_absolute_error(true,predicted)\n",
    "    mse = mean_squared_error(true,predicted)\n",
    "    rmse = np.sqrt(mean_squared_error(true,predicted))\n",
    "    r2_scored = r2_score(true,predicted)\n",
    "    return mae,rmse,r2_scored"
   ]
  },
  {
   "cell_type": "code",
   "execution_count": 51,
   "metadata": {},
   "outputs": [
    {
     "name": "stdout",
     "output_type": "stream",
     "text": [
      "Linear regression\n",
      "MOdel Training Performance\n",
      "RMSE 0.38821507218042756\n",
      "MAE: 0.30692663002771836\n",
      "R2 Score: 0.11528972027826268\n",
      "====================\n",
      "\n",
      "\n"
     ]
    },
    {
     "name": "stderr",
     "output_type": "stream",
     "text": [
      "c:\\Users\\91971\\OneDrive\\Desktop\\Project ML 1\\venv\\lib\\site-packages\\sklearn\\base.py:1152: DataConversionWarning: A column-vector y was passed when a 1d array was expected. Please change the shape of y to (n_samples,), for example using ravel().\n",
      "  return fit_method(estimator, *args, **kwargs)\n"
     ]
    },
    {
     "name": "stdout",
     "output_type": "stream",
     "text": [
      "Random Forest\n",
      "MOdel Training Performance\n",
      "RMSE 0.429340579648993\n",
      "MAE: 0.18433333333333332\n",
      "R2 Score: -0.08208198051948057\n",
      "====================\n",
      "\n",
      "\n",
      "Decision Tree\n",
      "MOdel Training Performance\n",
      "RMSE 0.5219621101616903\n",
      "MAE: 0.27244444444444443\n",
      "R2 Score: -0.5993158627087198\n",
      "====================\n",
      "\n",
      "\n"
     ]
    }
   ],
   "source": [
    "## Train different models\n",
    "\n",
    "models = {\n",
    "    'Linear regression':LinearRegression(),\n",
    "    'Random Forest':RandomForestClassifier(),\n",
    "    'Decision Tree':DecisionTreeClassifier()\n",
    "}\n",
    "\n",
    "model_list = []\n",
    "r2_list = []\n",
    "\n",
    "for i in range(len(list(models))):\n",
    "    model = list(models.values())[i]\n",
    "    model.fit(X_train,y_train)\n",
    "\n",
    "    # Make Predictions\n",
    "    y_pred=model.predict(X_test)\n",
    "\n",
    "    mae,rmse,r2_scored = evaluate_model(y_test,y_pred)\n",
    "\n",
    "    print(list(models.keys())[i])\n",
    "    model_list.append(list(models.keys())[i])\n",
    "\n",
    "    print('MOdel Training Performance')\n",
    "    print('RMSE',rmse)\n",
    "    print('MAE:',mae)\n",
    "    print('R2 Score:',r2_scored)\n",
    "\n",
    "    r2_list.append(r2_scored)\n",
    "\n",
    "    print('='*20)\n",
    "    print('\\n')"
   ]
  },
  {
   "cell_type": "code",
   "execution_count": null,
   "metadata": {},
   "outputs": [],
   "source": []
  },
  {
   "cell_type": "code",
   "execution_count": null,
   "metadata": {},
   "outputs": [],
   "source": []
  },
  {
   "cell_type": "code",
   "execution_count": null,
   "metadata": {},
   "outputs": [],
   "source": []
  },
  {
   "cell_type": "code",
   "execution_count": null,
   "metadata": {},
   "outputs": [],
   "source": []
  }
 ],
 "metadata": {
  "kernelspec": {
   "display_name": "Python 3",
   "language": "python",
   "name": "python3"
  },
  "language_info": {
   "codemirror_mode": {
    "name": "ipython",
    "version": 3
   },
   "file_extension": ".py",
   "mimetype": "text/x-python",
   "name": "python",
   "nbconvert_exporter": "python",
   "pygments_lexer": "ipython3",
   "version": "3.8.0"
  }
 },
 "nbformat": 4,
 "nbformat_minor": 2
}
